{
  "nbformat": 4,
  "nbformat_minor": 0,
  "metadata": {
    "colab": {
      "provenance": [],
      "authorship_tag": "ABX9TyPXltHEozK2zckXZTLgWnxL",
      "include_colab_link": true
    },
    "kernelspec": {
      "name": "python3",
      "display_name": "Python 3"
    },
    "language_info": {
      "name": "python"
    }
  },
  "cells": [
    {
      "cell_type": "markdown",
      "metadata": {
        "id": "view-in-github",
        "colab_type": "text"
      },
      "source": [
        "<a href=\"https://colab.research.google.com/github/Sanjay05-coder/ANN-BasicClassification-Predicting-Breast-Cancer.ipynb/blob/main/ANN_BasicClassification_Predicting_Breast_Cancer.ipynb\" target=\"_parent\"><img src=\"https://colab.research.google.com/assets/colab-badge.svg\" alt=\"Open In Colab\"/></a>"
      ]
    },
    {
      "cell_type": "code",
      "execution_count": 1,
      "metadata": {
        "id": "l9UuNMhvdQX3"
      },
      "outputs": [],
      "source": [
        "import tensorflow as tf #Import the core tensorflow library\n",
        "from tensorflow import keras #Import the Keras API, whihx is now the official high-level API for building and training deep learning models in Tensorflow\n",
        "from tensorflow.keras import layers\n",
        "import numpy as np\n",
        "from sklearn.model_selection import train_test_split\n",
        "from sklearn.preprocessing import MinMaxScaler\n",
        "import matplotlib as plt\n",
        "from sklearn.metrics import confusion_matrix,ConfusionMatrixDisplay\n",
        "import pandas as pd"
      ]
    },
    {
      "cell_type": "markdown",
      "source": [
        "#Malignant - Cancerous\n",
        "#Beningn-NonCancerous"
      ],
      "metadata": {
        "id": "MDVaPzlAdy8A"
      }
    },
    {
      "cell_type": "markdown",
      "source": [
        "Load dataset"
      ],
      "metadata": {
        "id": "S0_s0pbOeJxW"
      }
    },
    {
      "cell_type": "code",
      "source": [
        "df=pd.read_csv(\"/content/Breast Cancer Wisconsin.csv.crdownload\")"
      ],
      "metadata": {
        "id": "1W0hp0wUdebl"
      },
      "execution_count": 3,
      "outputs": []
    },
    {
      "cell_type": "markdown",
      "source": [
        "Evaluate dataset"
      ],
      "metadata": {
        "id": "gt8fhAcneK4x"
      }
    },
    {
      "cell_type": "code",
      "source": [
        "df"
      ],
      "metadata": {
        "colab": {
          "base_uri": "https://localhost:8080/",
          "height": 461
        },
        "id": "JqwrMKuFdeeP",
        "outputId": "d9a83625-086a-46ee-b045-d639e708b86f"
      },
      "execution_count": 4,
      "outputs": [
        {
          "output_type": "execute_result",
          "data": {
            "text/plain": [
              "           id diagnosis  radius_mean  texture_mean  perimeter_mean  area_mean  \\\n",
              "0      842302         M        17.99         10.38          122.80     1001.0   \n",
              "1      842517         M        20.57         17.77          132.90     1326.0   \n",
              "2    84300903         M        19.69         21.25          130.00     1203.0   \n",
              "3    84348301         M        11.42         20.38           77.58      386.1   \n",
              "4    84358402         M        20.29         14.34          135.10     1297.0   \n",
              "..        ...       ...          ...           ...             ...        ...   \n",
              "564    926424         M        21.56         22.39          142.00     1479.0   \n",
              "565    926682         M        20.13         28.25          131.20     1261.0   \n",
              "566    926954         M        16.60         28.08          108.30      858.1   \n",
              "567    927241         M        20.60         29.33          140.10     1265.0   \n",
              "568     92751         B         7.76         24.54           47.92      181.0   \n",
              "\n",
              "     smoothness_mean  compactness_mean  concavity_mean  concave points_mean  \\\n",
              "0            0.11840           0.27760         0.30010              0.14710   \n",
              "1            0.08474           0.07864         0.08690              0.07017   \n",
              "2            0.10960           0.15990         0.19740              0.12790   \n",
              "3            0.14250           0.28390         0.24140              0.10520   \n",
              "4            0.10030           0.13280         0.19800              0.10430   \n",
              "..               ...               ...             ...                  ...   \n",
              "564          0.11100           0.11590         0.24390              0.13890   \n",
              "565          0.09780           0.10340         0.14400              0.09791   \n",
              "566          0.08455           0.10230         0.09251              0.05302   \n",
              "567          0.11780           0.27700         0.35140              0.15200   \n",
              "568          0.05263           0.04362         0.00000              0.00000   \n",
              "\n",
              "     ...  radius_worst  texture_worst  perimeter_worst  area_worst  \\\n",
              "0    ...        25.380          17.33           184.60      2019.0   \n",
              "1    ...        24.990          23.41           158.80      1956.0   \n",
              "2    ...        23.570          25.53           152.50      1709.0   \n",
              "3    ...        14.910          26.50            98.87       567.7   \n",
              "4    ...        22.540          16.67           152.20      1575.0   \n",
              "..   ...           ...            ...              ...         ...   \n",
              "564  ...        25.450          26.40           166.10      2027.0   \n",
              "565  ...        23.690          38.25           155.00      1731.0   \n",
              "566  ...        18.980          34.12           126.70      1124.0   \n",
              "567  ...        25.740          39.42           184.60      1821.0   \n",
              "568  ...         9.456          30.37            59.16       268.6   \n",
              "\n",
              "     smoothness_worst  compactness_worst  concavity_worst  \\\n",
              "0             0.16220            0.66560           0.7119   \n",
              "1             0.12380            0.18660           0.2416   \n",
              "2             0.14440            0.42450           0.4504   \n",
              "3             0.20980            0.86630           0.6869   \n",
              "4             0.13740            0.20500           0.4000   \n",
              "..                ...                ...              ...   \n",
              "564           0.14100            0.21130           0.4107   \n",
              "565           0.11660            0.19220           0.3215   \n",
              "566           0.11390            0.30940           0.3403   \n",
              "567           0.16500            0.86810           0.9387   \n",
              "568           0.08996            0.06444           0.0000   \n",
              "\n",
              "     concave points_worst  symmetry_worst  fractal_dimension_worst  \n",
              "0                  0.2654          0.4601                  0.11890  \n",
              "1                  0.1860          0.2750                  0.08902  \n",
              "2                  0.2430          0.3613                  0.08758  \n",
              "3                  0.2575          0.6638                  0.17300  \n",
              "4                  0.1625          0.2364                  0.07678  \n",
              "..                    ...             ...                      ...  \n",
              "564                0.2216          0.2060                  0.07115  \n",
              "565                0.1628          0.2572                  0.06637  \n",
              "566                0.1418          0.2218                  0.07820  \n",
              "567                0.2650          0.4087                  0.12400  \n",
              "568                0.0000          0.2871                  0.07039  \n",
              "\n",
              "[569 rows x 32 columns]"
            ],
            "text/html": [
              "\n",
              "  <div id=\"df-c856fb3f-667f-49d5-ad80-2c2acc62c573\" class=\"colab-df-container\">\n",
              "    <div>\n",
              "<style scoped>\n",
              "    .dataframe tbody tr th:only-of-type {\n",
              "        vertical-align: middle;\n",
              "    }\n",
              "\n",
              "    .dataframe tbody tr th {\n",
              "        vertical-align: top;\n",
              "    }\n",
              "\n",
              "    .dataframe thead th {\n",
              "        text-align: right;\n",
              "    }\n",
              "</style>\n",
              "<table border=\"1\" class=\"dataframe\">\n",
              "  <thead>\n",
              "    <tr style=\"text-align: right;\">\n",
              "      <th></th>\n",
              "      <th>id</th>\n",
              "      <th>diagnosis</th>\n",
              "      <th>radius_mean</th>\n",
              "      <th>texture_mean</th>\n",
              "      <th>perimeter_mean</th>\n",
              "      <th>area_mean</th>\n",
              "      <th>smoothness_mean</th>\n",
              "      <th>compactness_mean</th>\n",
              "      <th>concavity_mean</th>\n",
              "      <th>concave points_mean</th>\n",
              "      <th>...</th>\n",
              "      <th>radius_worst</th>\n",
              "      <th>texture_worst</th>\n",
              "      <th>perimeter_worst</th>\n",
              "      <th>area_worst</th>\n",
              "      <th>smoothness_worst</th>\n",
              "      <th>compactness_worst</th>\n",
              "      <th>concavity_worst</th>\n",
              "      <th>concave points_worst</th>\n",
              "      <th>symmetry_worst</th>\n",
              "      <th>fractal_dimension_worst</th>\n",
              "    </tr>\n",
              "  </thead>\n",
              "  <tbody>\n",
              "    <tr>\n",
              "      <th>0</th>\n",
              "      <td>842302</td>\n",
              "      <td>M</td>\n",
              "      <td>17.99</td>\n",
              "      <td>10.38</td>\n",
              "      <td>122.80</td>\n",
              "      <td>1001.0</td>\n",
              "      <td>0.11840</td>\n",
              "      <td>0.27760</td>\n",
              "      <td>0.30010</td>\n",
              "      <td>0.14710</td>\n",
              "      <td>...</td>\n",
              "      <td>25.380</td>\n",
              "      <td>17.33</td>\n",
              "      <td>184.60</td>\n",
              "      <td>2019.0</td>\n",
              "      <td>0.16220</td>\n",
              "      <td>0.66560</td>\n",
              "      <td>0.7119</td>\n",
              "      <td>0.2654</td>\n",
              "      <td>0.4601</td>\n",
              "      <td>0.11890</td>\n",
              "    </tr>\n",
              "    <tr>\n",
              "      <th>1</th>\n",
              "      <td>842517</td>\n",
              "      <td>M</td>\n",
              "      <td>20.57</td>\n",
              "      <td>17.77</td>\n",
              "      <td>132.90</td>\n",
              "      <td>1326.0</td>\n",
              "      <td>0.08474</td>\n",
              "      <td>0.07864</td>\n",
              "      <td>0.08690</td>\n",
              "      <td>0.07017</td>\n",
              "      <td>...</td>\n",
              "      <td>24.990</td>\n",
              "      <td>23.41</td>\n",
              "      <td>158.80</td>\n",
              "      <td>1956.0</td>\n",
              "      <td>0.12380</td>\n",
              "      <td>0.18660</td>\n",
              "      <td>0.2416</td>\n",
              "      <td>0.1860</td>\n",
              "      <td>0.2750</td>\n",
              "      <td>0.08902</td>\n",
              "    </tr>\n",
              "    <tr>\n",
              "      <th>2</th>\n",
              "      <td>84300903</td>\n",
              "      <td>M</td>\n",
              "      <td>19.69</td>\n",
              "      <td>21.25</td>\n",
              "      <td>130.00</td>\n",
              "      <td>1203.0</td>\n",
              "      <td>0.10960</td>\n",
              "      <td>0.15990</td>\n",
              "      <td>0.19740</td>\n",
              "      <td>0.12790</td>\n",
              "      <td>...</td>\n",
              "      <td>23.570</td>\n",
              "      <td>25.53</td>\n",
              "      <td>152.50</td>\n",
              "      <td>1709.0</td>\n",
              "      <td>0.14440</td>\n",
              "      <td>0.42450</td>\n",
              "      <td>0.4504</td>\n",
              "      <td>0.2430</td>\n",
              "      <td>0.3613</td>\n",
              "      <td>0.08758</td>\n",
              "    </tr>\n",
              "    <tr>\n",
              "      <th>3</th>\n",
              "      <td>84348301</td>\n",
              "      <td>M</td>\n",
              "      <td>11.42</td>\n",
              "      <td>20.38</td>\n",
              "      <td>77.58</td>\n",
              "      <td>386.1</td>\n",
              "      <td>0.14250</td>\n",
              "      <td>0.28390</td>\n",
              "      <td>0.24140</td>\n",
              "      <td>0.10520</td>\n",
              "      <td>...</td>\n",
              "      <td>14.910</td>\n",
              "      <td>26.50</td>\n",
              "      <td>98.87</td>\n",
              "      <td>567.7</td>\n",
              "      <td>0.20980</td>\n",
              "      <td>0.86630</td>\n",
              "      <td>0.6869</td>\n",
              "      <td>0.2575</td>\n",
              "      <td>0.6638</td>\n",
              "      <td>0.17300</td>\n",
              "    </tr>\n",
              "    <tr>\n",
              "      <th>4</th>\n",
              "      <td>84358402</td>\n",
              "      <td>M</td>\n",
              "      <td>20.29</td>\n",
              "      <td>14.34</td>\n",
              "      <td>135.10</td>\n",
              "      <td>1297.0</td>\n",
              "      <td>0.10030</td>\n",
              "      <td>0.13280</td>\n",
              "      <td>0.19800</td>\n",
              "      <td>0.10430</td>\n",
              "      <td>...</td>\n",
              "      <td>22.540</td>\n",
              "      <td>16.67</td>\n",
              "      <td>152.20</td>\n",
              "      <td>1575.0</td>\n",
              "      <td>0.13740</td>\n",
              "      <td>0.20500</td>\n",
              "      <td>0.4000</td>\n",
              "      <td>0.1625</td>\n",
              "      <td>0.2364</td>\n",
              "      <td>0.07678</td>\n",
              "    </tr>\n",
              "    <tr>\n",
              "      <th>...</th>\n",
              "      <td>...</td>\n",
              "      <td>...</td>\n",
              "      <td>...</td>\n",
              "      <td>...</td>\n",
              "      <td>...</td>\n",
              "      <td>...</td>\n",
              "      <td>...</td>\n",
              "      <td>...</td>\n",
              "      <td>...</td>\n",
              "      <td>...</td>\n",
              "      <td>...</td>\n",
              "      <td>...</td>\n",
              "      <td>...</td>\n",
              "      <td>...</td>\n",
              "      <td>...</td>\n",
              "      <td>...</td>\n",
              "      <td>...</td>\n",
              "      <td>...</td>\n",
              "      <td>...</td>\n",
              "      <td>...</td>\n",
              "      <td>...</td>\n",
              "    </tr>\n",
              "    <tr>\n",
              "      <th>564</th>\n",
              "      <td>926424</td>\n",
              "      <td>M</td>\n",
              "      <td>21.56</td>\n",
              "      <td>22.39</td>\n",
              "      <td>142.00</td>\n",
              "      <td>1479.0</td>\n",
              "      <td>0.11100</td>\n",
              "      <td>0.11590</td>\n",
              "      <td>0.24390</td>\n",
              "      <td>0.13890</td>\n",
              "      <td>...</td>\n",
              "      <td>25.450</td>\n",
              "      <td>26.40</td>\n",
              "      <td>166.10</td>\n",
              "      <td>2027.0</td>\n",
              "      <td>0.14100</td>\n",
              "      <td>0.21130</td>\n",
              "      <td>0.4107</td>\n",
              "      <td>0.2216</td>\n",
              "      <td>0.2060</td>\n",
              "      <td>0.07115</td>\n",
              "    </tr>\n",
              "    <tr>\n",
              "      <th>565</th>\n",
              "      <td>926682</td>\n",
              "      <td>M</td>\n",
              "      <td>20.13</td>\n",
              "      <td>28.25</td>\n",
              "      <td>131.20</td>\n",
              "      <td>1261.0</td>\n",
              "      <td>0.09780</td>\n",
              "      <td>0.10340</td>\n",
              "      <td>0.14400</td>\n",
              "      <td>0.09791</td>\n",
              "      <td>...</td>\n",
              "      <td>23.690</td>\n",
              "      <td>38.25</td>\n",
              "      <td>155.00</td>\n",
              "      <td>1731.0</td>\n",
              "      <td>0.11660</td>\n",
              "      <td>0.19220</td>\n",
              "      <td>0.3215</td>\n",
              "      <td>0.1628</td>\n",
              "      <td>0.2572</td>\n",
              "      <td>0.06637</td>\n",
              "    </tr>\n",
              "    <tr>\n",
              "      <th>566</th>\n",
              "      <td>926954</td>\n",
              "      <td>M</td>\n",
              "      <td>16.60</td>\n",
              "      <td>28.08</td>\n",
              "      <td>108.30</td>\n",
              "      <td>858.1</td>\n",
              "      <td>0.08455</td>\n",
              "      <td>0.10230</td>\n",
              "      <td>0.09251</td>\n",
              "      <td>0.05302</td>\n",
              "      <td>...</td>\n",
              "      <td>18.980</td>\n",
              "      <td>34.12</td>\n",
              "      <td>126.70</td>\n",
              "      <td>1124.0</td>\n",
              "      <td>0.11390</td>\n",
              "      <td>0.30940</td>\n",
              "      <td>0.3403</td>\n",
              "      <td>0.1418</td>\n",
              "      <td>0.2218</td>\n",
              "      <td>0.07820</td>\n",
              "    </tr>\n",
              "    <tr>\n",
              "      <th>567</th>\n",
              "      <td>927241</td>\n",
              "      <td>M</td>\n",
              "      <td>20.60</td>\n",
              "      <td>29.33</td>\n",
              "      <td>140.10</td>\n",
              "      <td>1265.0</td>\n",
              "      <td>0.11780</td>\n",
              "      <td>0.27700</td>\n",
              "      <td>0.35140</td>\n",
              "      <td>0.15200</td>\n",
              "      <td>...</td>\n",
              "      <td>25.740</td>\n",
              "      <td>39.42</td>\n",
              "      <td>184.60</td>\n",
              "      <td>1821.0</td>\n",
              "      <td>0.16500</td>\n",
              "      <td>0.86810</td>\n",
              "      <td>0.9387</td>\n",
              "      <td>0.2650</td>\n",
              "      <td>0.4087</td>\n",
              "      <td>0.12400</td>\n",
              "    </tr>\n",
              "    <tr>\n",
              "      <th>568</th>\n",
              "      <td>92751</td>\n",
              "      <td>B</td>\n",
              "      <td>7.76</td>\n",
              "      <td>24.54</td>\n",
              "      <td>47.92</td>\n",
              "      <td>181.0</td>\n",
              "      <td>0.05263</td>\n",
              "      <td>0.04362</td>\n",
              "      <td>0.00000</td>\n",
              "      <td>0.00000</td>\n",
              "      <td>...</td>\n",
              "      <td>9.456</td>\n",
              "      <td>30.37</td>\n",
              "      <td>59.16</td>\n",
              "      <td>268.6</td>\n",
              "      <td>0.08996</td>\n",
              "      <td>0.06444</td>\n",
              "      <td>0.0000</td>\n",
              "      <td>0.0000</td>\n",
              "      <td>0.2871</td>\n",
              "      <td>0.07039</td>\n",
              "    </tr>\n",
              "  </tbody>\n",
              "</table>\n",
              "<p>569 rows × 32 columns</p>\n",
              "</div>\n",
              "    <div class=\"colab-df-buttons\">\n",
              "\n",
              "  <div class=\"colab-df-container\">\n",
              "    <button class=\"colab-df-convert\" onclick=\"convertToInteractive('df-c856fb3f-667f-49d5-ad80-2c2acc62c573')\"\n",
              "            title=\"Convert this dataframe to an interactive table.\"\n",
              "            style=\"display:none;\">\n",
              "\n",
              "  <svg xmlns=\"http://www.w3.org/2000/svg\" height=\"24px\" viewBox=\"0 -960 960 960\">\n",
              "    <path d=\"M120-120v-720h720v720H120Zm60-500h600v-160H180v160Zm220 220h160v-160H400v160Zm0 220h160v-160H400v160ZM180-400h160v-160H180v160Zm440 0h160v-160H620v160ZM180-180h160v-160H180v160Zm440 0h160v-160H620v160Z\"/>\n",
              "  </svg>\n",
              "    </button>\n",
              "\n",
              "  <style>\n",
              "    .colab-df-container {\n",
              "      display:flex;\n",
              "      gap: 12px;\n",
              "    }\n",
              "\n",
              "    .colab-df-convert {\n",
              "      background-color: #E8F0FE;\n",
              "      border: none;\n",
              "      border-radius: 50%;\n",
              "      cursor: pointer;\n",
              "      display: none;\n",
              "      fill: #1967D2;\n",
              "      height: 32px;\n",
              "      padding: 0 0 0 0;\n",
              "      width: 32px;\n",
              "    }\n",
              "\n",
              "    .colab-df-convert:hover {\n",
              "      background-color: #E2EBFA;\n",
              "      box-shadow: 0px 1px 2px rgba(60, 64, 67, 0.3), 0px 1px 3px 1px rgba(60, 64, 67, 0.15);\n",
              "      fill: #174EA6;\n",
              "    }\n",
              "\n",
              "    .colab-df-buttons div {\n",
              "      margin-bottom: 4px;\n",
              "    }\n",
              "\n",
              "    [theme=dark] .colab-df-convert {\n",
              "      background-color: #3B4455;\n",
              "      fill: #D2E3FC;\n",
              "    }\n",
              "\n",
              "    [theme=dark] .colab-df-convert:hover {\n",
              "      background-color: #434B5C;\n",
              "      box-shadow: 0px 1px 3px 1px rgba(0, 0, 0, 0.15);\n",
              "      filter: drop-shadow(0px 1px 2px rgba(0, 0, 0, 0.3));\n",
              "      fill: #FFFFFF;\n",
              "    }\n",
              "  </style>\n",
              "\n",
              "    <script>\n",
              "      const buttonEl =\n",
              "        document.querySelector('#df-c856fb3f-667f-49d5-ad80-2c2acc62c573 button.colab-df-convert');\n",
              "      buttonEl.style.display =\n",
              "        google.colab.kernel.accessAllowed ? 'block' : 'none';\n",
              "\n",
              "      async function convertToInteractive(key) {\n",
              "        const element = document.querySelector('#df-c856fb3f-667f-49d5-ad80-2c2acc62c573');\n",
              "        const dataTable =\n",
              "          await google.colab.kernel.invokeFunction('convertToInteractive',\n",
              "                                                    [key], {});\n",
              "        if (!dataTable) return;\n",
              "\n",
              "        const docLinkHtml = 'Like what you see? Visit the ' +\n",
              "          '<a target=\"_blank\" href=https://colab.research.google.com/notebooks/data_table.ipynb>data table notebook</a>'\n",
              "          + ' to learn more about interactive tables.';\n",
              "        element.innerHTML = '';\n",
              "        dataTable['output_type'] = 'display_data';\n",
              "        await google.colab.output.renderOutput(dataTable, element);\n",
              "        const docLink = document.createElement('div');\n",
              "        docLink.innerHTML = docLinkHtml;\n",
              "        element.appendChild(docLink);\n",
              "      }\n",
              "    </script>\n",
              "  </div>\n",
              "\n",
              "\n",
              "    <div id=\"df-fb91a351-6c4f-454c-96bc-e5117675746a\">\n",
              "      <button class=\"colab-df-quickchart\" onclick=\"quickchart('df-fb91a351-6c4f-454c-96bc-e5117675746a')\"\n",
              "                title=\"Suggest charts\"\n",
              "                style=\"display:none;\">\n",
              "\n",
              "<svg xmlns=\"http://www.w3.org/2000/svg\" height=\"24px\"viewBox=\"0 0 24 24\"\n",
              "     width=\"24px\">\n",
              "    <g>\n",
              "        <path d=\"M19 3H5c-1.1 0-2 .9-2 2v14c0 1.1.9 2 2 2h14c1.1 0 2-.9 2-2V5c0-1.1-.9-2-2-2zM9 17H7v-7h2v7zm4 0h-2V7h2v10zm4 0h-2v-4h2v4z\"/>\n",
              "    </g>\n",
              "</svg>\n",
              "      </button>\n",
              "\n",
              "<style>\n",
              "  .colab-df-quickchart {\n",
              "      --bg-color: #E8F0FE;\n",
              "      --fill-color: #1967D2;\n",
              "      --hover-bg-color: #E2EBFA;\n",
              "      --hover-fill-color: #174EA6;\n",
              "      --disabled-fill-color: #AAA;\n",
              "      --disabled-bg-color: #DDD;\n",
              "  }\n",
              "\n",
              "  [theme=dark] .colab-df-quickchart {\n",
              "      --bg-color: #3B4455;\n",
              "      --fill-color: #D2E3FC;\n",
              "      --hover-bg-color: #434B5C;\n",
              "      --hover-fill-color: #FFFFFF;\n",
              "      --disabled-bg-color: #3B4455;\n",
              "      --disabled-fill-color: #666;\n",
              "  }\n",
              "\n",
              "  .colab-df-quickchart {\n",
              "    background-color: var(--bg-color);\n",
              "    border: none;\n",
              "    border-radius: 50%;\n",
              "    cursor: pointer;\n",
              "    display: none;\n",
              "    fill: var(--fill-color);\n",
              "    height: 32px;\n",
              "    padding: 0;\n",
              "    width: 32px;\n",
              "  }\n",
              "\n",
              "  .colab-df-quickchart:hover {\n",
              "    background-color: var(--hover-bg-color);\n",
              "    box-shadow: 0 1px 2px rgba(60, 64, 67, 0.3), 0 1px 3px 1px rgba(60, 64, 67, 0.15);\n",
              "    fill: var(--button-hover-fill-color);\n",
              "  }\n",
              "\n",
              "  .colab-df-quickchart-complete:disabled,\n",
              "  .colab-df-quickchart-complete:disabled:hover {\n",
              "    background-color: var(--disabled-bg-color);\n",
              "    fill: var(--disabled-fill-color);\n",
              "    box-shadow: none;\n",
              "  }\n",
              "\n",
              "  .colab-df-spinner {\n",
              "    border: 2px solid var(--fill-color);\n",
              "    border-color: transparent;\n",
              "    border-bottom-color: var(--fill-color);\n",
              "    animation:\n",
              "      spin 1s steps(1) infinite;\n",
              "  }\n",
              "\n",
              "  @keyframes spin {\n",
              "    0% {\n",
              "      border-color: transparent;\n",
              "      border-bottom-color: var(--fill-color);\n",
              "      border-left-color: var(--fill-color);\n",
              "    }\n",
              "    20% {\n",
              "      border-color: transparent;\n",
              "      border-left-color: var(--fill-color);\n",
              "      border-top-color: var(--fill-color);\n",
              "    }\n",
              "    30% {\n",
              "      border-color: transparent;\n",
              "      border-left-color: var(--fill-color);\n",
              "      border-top-color: var(--fill-color);\n",
              "      border-right-color: var(--fill-color);\n",
              "    }\n",
              "    40% {\n",
              "      border-color: transparent;\n",
              "      border-right-color: var(--fill-color);\n",
              "      border-top-color: var(--fill-color);\n",
              "    }\n",
              "    60% {\n",
              "      border-color: transparent;\n",
              "      border-right-color: var(--fill-color);\n",
              "    }\n",
              "    80% {\n",
              "      border-color: transparent;\n",
              "      border-right-color: var(--fill-color);\n",
              "      border-bottom-color: var(--fill-color);\n",
              "    }\n",
              "    90% {\n",
              "      border-color: transparent;\n",
              "      border-bottom-color: var(--fill-color);\n",
              "    }\n",
              "  }\n",
              "</style>\n",
              "\n",
              "      <script>\n",
              "        async function quickchart(key) {\n",
              "          const quickchartButtonEl =\n",
              "            document.querySelector('#' + key + ' button');\n",
              "          quickchartButtonEl.disabled = true;  // To prevent multiple clicks.\n",
              "          quickchartButtonEl.classList.add('colab-df-spinner');\n",
              "          try {\n",
              "            const charts = await google.colab.kernel.invokeFunction(\n",
              "                'suggestCharts', [key], {});\n",
              "          } catch (error) {\n",
              "            console.error('Error during call to suggestCharts:', error);\n",
              "          }\n",
              "          quickchartButtonEl.classList.remove('colab-df-spinner');\n",
              "          quickchartButtonEl.classList.add('colab-df-quickchart-complete');\n",
              "        }\n",
              "        (() => {\n",
              "          let quickchartButtonEl =\n",
              "            document.querySelector('#df-fb91a351-6c4f-454c-96bc-e5117675746a button');\n",
              "          quickchartButtonEl.style.display =\n",
              "            google.colab.kernel.accessAllowed ? 'block' : 'none';\n",
              "        })();\n",
              "      </script>\n",
              "    </div>\n",
              "\n",
              "  <div id=\"id_d7b2c151-10e9-4cab-862a-e6d0333228a6\">\n",
              "    <style>\n",
              "      .colab-df-generate {\n",
              "        background-color: #E8F0FE;\n",
              "        border: none;\n",
              "        border-radius: 50%;\n",
              "        cursor: pointer;\n",
              "        display: none;\n",
              "        fill: #1967D2;\n",
              "        height: 32px;\n",
              "        padding: 0 0 0 0;\n",
              "        width: 32px;\n",
              "      }\n",
              "\n",
              "      .colab-df-generate:hover {\n",
              "        background-color: #E2EBFA;\n",
              "        box-shadow: 0px 1px 2px rgba(60, 64, 67, 0.3), 0px 1px 3px 1px rgba(60, 64, 67, 0.15);\n",
              "        fill: #174EA6;\n",
              "      }\n",
              "\n",
              "      [theme=dark] .colab-df-generate {\n",
              "        background-color: #3B4455;\n",
              "        fill: #D2E3FC;\n",
              "      }\n",
              "\n",
              "      [theme=dark] .colab-df-generate:hover {\n",
              "        background-color: #434B5C;\n",
              "        box-shadow: 0px 1px 3px 1px rgba(0, 0, 0, 0.15);\n",
              "        filter: drop-shadow(0px 1px 2px rgba(0, 0, 0, 0.3));\n",
              "        fill: #FFFFFF;\n",
              "      }\n",
              "    </style>\n",
              "    <button class=\"colab-df-generate\" onclick=\"generateWithVariable('df')\"\n",
              "            title=\"Generate code using this dataframe.\"\n",
              "            style=\"display:none;\">\n",
              "\n",
              "  <svg xmlns=\"http://www.w3.org/2000/svg\" height=\"24px\"viewBox=\"0 0 24 24\"\n",
              "       width=\"24px\">\n",
              "    <path d=\"M7,19H8.4L18.45,9,17,7.55,7,17.6ZM5,21V16.75L18.45,3.32a2,2,0,0,1,2.83,0l1.4,1.43a1.91,1.91,0,0,1,.58,1.4,1.91,1.91,0,0,1-.58,1.4L9.25,21ZM18.45,9,17,7.55Zm-12,3A5.31,5.31,0,0,0,4.9,8.1,5.31,5.31,0,0,0,1,6.5,5.31,5.31,0,0,0,4.9,4.9,5.31,5.31,0,0,0,6.5,1,5.31,5.31,0,0,0,8.1,4.9,5.31,5.31,0,0,0,12,6.5,5.46,5.46,0,0,0,6.5,12Z\"/>\n",
              "  </svg>\n",
              "    </button>\n",
              "    <script>\n",
              "      (() => {\n",
              "      const buttonEl =\n",
              "        document.querySelector('#id_d7b2c151-10e9-4cab-862a-e6d0333228a6 button.colab-df-generate');\n",
              "      buttonEl.style.display =\n",
              "        google.colab.kernel.accessAllowed ? 'block' : 'none';\n",
              "\n",
              "      buttonEl.onclick = () => {\n",
              "        google.colab.notebook.generateWithVariable('df');\n",
              "      }\n",
              "      })();\n",
              "    </script>\n",
              "  </div>\n",
              "\n",
              "    </div>\n",
              "  </div>\n"
            ],
            "application/vnd.google.colaboratory.intrinsic+json": {
              "type": "dataframe",
              "variable_name": "df"
            }
          },
          "metadata": {},
          "execution_count": 4
        }
      ]
    },
    {
      "cell_type": "code",
      "source": [
        "#getting length of column\n",
        "\n",
        "len(df.columns)"
      ],
      "metadata": {
        "colab": {
          "base_uri": "https://localhost:8080/"
        },
        "id": "PoRfxhfFdegy",
        "outputId": "28a4aba2-745f-4135-9e43-e605a0f18427"
      },
      "execution_count": 5,
      "outputs": [
        {
          "output_type": "execute_result",
          "data": {
            "text/plain": [
              "32"
            ]
          },
          "metadata": {},
          "execution_count": 5
        }
      ]
    },
    {
      "cell_type": "code",
      "source": [
        "df.info()"
      ],
      "metadata": {
        "colab": {
          "base_uri": "https://localhost:8080/"
        },
        "id": "KAp3Y7izdejd",
        "outputId": "ef583823-b07f-4b52-cb62-237a8e0696ad"
      },
      "execution_count": 7,
      "outputs": [
        {
          "output_type": "stream",
          "name": "stdout",
          "text": [
            "<class 'pandas.core.frame.DataFrame'>\n",
            "RangeIndex: 569 entries, 0 to 568\n",
            "Data columns (total 32 columns):\n",
            " #   Column                   Non-Null Count  Dtype  \n",
            "---  ------                   --------------  -----  \n",
            " 0   id                       569 non-null    int64  \n",
            " 1   diagnosis                569 non-null    object \n",
            " 2   radius_mean              569 non-null    float64\n",
            " 3   texture_mean             569 non-null    float64\n",
            " 4   perimeter_mean           569 non-null    float64\n",
            " 5   area_mean                569 non-null    float64\n",
            " 6   smoothness_mean          569 non-null    float64\n",
            " 7   compactness_mean         569 non-null    float64\n",
            " 8   concavity_mean           569 non-null    float64\n",
            " 9   concave points_mean      569 non-null    float64\n",
            " 10  symmetry_mean            569 non-null    float64\n",
            " 11  fractal_dimension_mean   569 non-null    float64\n",
            " 12  radius_se                569 non-null    float64\n",
            " 13  texture_se               569 non-null    float64\n",
            " 14  perimeter_se             569 non-null    float64\n",
            " 15  area_se                  569 non-null    float64\n",
            " 16  smoothness_se            569 non-null    float64\n",
            " 17  compactness_se           569 non-null    float64\n",
            " 18  concavity_se             569 non-null    float64\n",
            " 19  concave points_se        569 non-null    float64\n",
            " 20  symmetry_se              569 non-null    float64\n",
            " 21  fractal_dimension_se     569 non-null    float64\n",
            " 22  radius_worst             569 non-null    float64\n",
            " 23  texture_worst            569 non-null    float64\n",
            " 24  perimeter_worst          569 non-null    float64\n",
            " 25  area_worst               569 non-null    float64\n",
            " 26  smoothness_worst         569 non-null    float64\n",
            " 27  compactness_worst        569 non-null    float64\n",
            " 28  concavity_worst          569 non-null    float64\n",
            " 29  concave points_worst     569 non-null    float64\n",
            " 30  symmetry_worst           569 non-null    float64\n",
            " 31  fractal_dimension_worst  569 non-null    float64\n",
            "dtypes: float64(30), int64(1), object(1)\n",
            "memory usage: 142.4+ KB\n"
          ]
        }
      ]
    },
    {
      "cell_type": "code",
      "source": [
        "df['diagnosis']"
      ],
      "metadata": {
        "colab": {
          "base_uri": "https://localhost:8080/",
          "height": 458
        },
        "id": "wshnu2n7demA",
        "outputId": "8313410a-5c7f-446f-eb25-db33bee0259a"
      },
      "execution_count": 8,
      "outputs": [
        {
          "output_type": "execute_result",
          "data": {
            "text/plain": [
              "0      M\n",
              "1      M\n",
              "2      M\n",
              "3      M\n",
              "4      M\n",
              "      ..\n",
              "564    M\n",
              "565    M\n",
              "566    M\n",
              "567    M\n",
              "568    B\n",
              "Name: diagnosis, Length: 569, dtype: object"
            ],
            "text/html": [
              "<div>\n",
              "<style scoped>\n",
              "    .dataframe tbody tr th:only-of-type {\n",
              "        vertical-align: middle;\n",
              "    }\n",
              "\n",
              "    .dataframe tbody tr th {\n",
              "        vertical-align: top;\n",
              "    }\n",
              "\n",
              "    .dataframe thead th {\n",
              "        text-align: right;\n",
              "    }\n",
              "</style>\n",
              "<table border=\"1\" class=\"dataframe\">\n",
              "  <thead>\n",
              "    <tr style=\"text-align: right;\">\n",
              "      <th></th>\n",
              "      <th>diagnosis</th>\n",
              "    </tr>\n",
              "  </thead>\n",
              "  <tbody>\n",
              "    <tr>\n",
              "      <th>0</th>\n",
              "      <td>M</td>\n",
              "    </tr>\n",
              "    <tr>\n",
              "      <th>1</th>\n",
              "      <td>M</td>\n",
              "    </tr>\n",
              "    <tr>\n",
              "      <th>2</th>\n",
              "      <td>M</td>\n",
              "    </tr>\n",
              "    <tr>\n",
              "      <th>3</th>\n",
              "      <td>M</td>\n",
              "    </tr>\n",
              "    <tr>\n",
              "      <th>4</th>\n",
              "      <td>M</td>\n",
              "    </tr>\n",
              "    <tr>\n",
              "      <th>...</th>\n",
              "      <td>...</td>\n",
              "    </tr>\n",
              "    <tr>\n",
              "      <th>564</th>\n",
              "      <td>M</td>\n",
              "    </tr>\n",
              "    <tr>\n",
              "      <th>565</th>\n",
              "      <td>M</td>\n",
              "    </tr>\n",
              "    <tr>\n",
              "      <th>566</th>\n",
              "      <td>M</td>\n",
              "    </tr>\n",
              "    <tr>\n",
              "      <th>567</th>\n",
              "      <td>M</td>\n",
              "    </tr>\n",
              "    <tr>\n",
              "      <th>568</th>\n",
              "      <td>B</td>\n",
              "    </tr>\n",
              "  </tbody>\n",
              "</table>\n",
              "<p>569 rows × 1 columns</p>\n",
              "</div><br><label><b>dtype:</b> object</label>"
            ]
          },
          "metadata": {},
          "execution_count": 8
        }
      ]
    },
    {
      "cell_type": "code",
      "source": [
        "df.isnull().sum()# no missing vals"
      ],
      "metadata": {
        "colab": {
          "base_uri": "https://localhost:8080/",
          "height": 1000
        },
        "id": "Lnnlh3vLdeod",
        "outputId": "1963554e-8367-4c9b-d45f-482cfe445794"
      },
      "execution_count": 9,
      "outputs": [
        {
          "output_type": "execute_result",
          "data": {
            "text/plain": [
              "id                         0\n",
              "diagnosis                  0\n",
              "radius_mean                0\n",
              "texture_mean               0\n",
              "perimeter_mean             0\n",
              "area_mean                  0\n",
              "smoothness_mean            0\n",
              "compactness_mean           0\n",
              "concavity_mean             0\n",
              "concave points_mean        0\n",
              "symmetry_mean              0\n",
              "fractal_dimension_mean     0\n",
              "radius_se                  0\n",
              "texture_se                 0\n",
              "perimeter_se               0\n",
              "area_se                    0\n",
              "smoothness_se              0\n",
              "compactness_se             0\n",
              "concavity_se               0\n",
              "concave points_se          0\n",
              "symmetry_se                0\n",
              "fractal_dimension_se       0\n",
              "radius_worst               0\n",
              "texture_worst              0\n",
              "perimeter_worst            0\n",
              "area_worst                 0\n",
              "smoothness_worst           0\n",
              "compactness_worst          0\n",
              "concavity_worst            0\n",
              "concave points_worst       0\n",
              "symmetry_worst             0\n",
              "fractal_dimension_worst    0\n",
              "dtype: int64"
            ],
            "text/html": [
              "<div>\n",
              "<style scoped>\n",
              "    .dataframe tbody tr th:only-of-type {\n",
              "        vertical-align: middle;\n",
              "    }\n",
              "\n",
              "    .dataframe tbody tr th {\n",
              "        vertical-align: top;\n",
              "    }\n",
              "\n",
              "    .dataframe thead th {\n",
              "        text-align: right;\n",
              "    }\n",
              "</style>\n",
              "<table border=\"1\" class=\"dataframe\">\n",
              "  <thead>\n",
              "    <tr style=\"text-align: right;\">\n",
              "      <th></th>\n",
              "      <th>0</th>\n",
              "    </tr>\n",
              "  </thead>\n",
              "  <tbody>\n",
              "    <tr>\n",
              "      <th>id</th>\n",
              "      <td>0</td>\n",
              "    </tr>\n",
              "    <tr>\n",
              "      <th>diagnosis</th>\n",
              "      <td>0</td>\n",
              "    </tr>\n",
              "    <tr>\n",
              "      <th>radius_mean</th>\n",
              "      <td>0</td>\n",
              "    </tr>\n",
              "    <tr>\n",
              "      <th>texture_mean</th>\n",
              "      <td>0</td>\n",
              "    </tr>\n",
              "    <tr>\n",
              "      <th>perimeter_mean</th>\n",
              "      <td>0</td>\n",
              "    </tr>\n",
              "    <tr>\n",
              "      <th>area_mean</th>\n",
              "      <td>0</td>\n",
              "    </tr>\n",
              "    <tr>\n",
              "      <th>smoothness_mean</th>\n",
              "      <td>0</td>\n",
              "    </tr>\n",
              "    <tr>\n",
              "      <th>compactness_mean</th>\n",
              "      <td>0</td>\n",
              "    </tr>\n",
              "    <tr>\n",
              "      <th>concavity_mean</th>\n",
              "      <td>0</td>\n",
              "    </tr>\n",
              "    <tr>\n",
              "      <th>concave points_mean</th>\n",
              "      <td>0</td>\n",
              "    </tr>\n",
              "    <tr>\n",
              "      <th>symmetry_mean</th>\n",
              "      <td>0</td>\n",
              "    </tr>\n",
              "    <tr>\n",
              "      <th>fractal_dimension_mean</th>\n",
              "      <td>0</td>\n",
              "    </tr>\n",
              "    <tr>\n",
              "      <th>radius_se</th>\n",
              "      <td>0</td>\n",
              "    </tr>\n",
              "    <tr>\n",
              "      <th>texture_se</th>\n",
              "      <td>0</td>\n",
              "    </tr>\n",
              "    <tr>\n",
              "      <th>perimeter_se</th>\n",
              "      <td>0</td>\n",
              "    </tr>\n",
              "    <tr>\n",
              "      <th>area_se</th>\n",
              "      <td>0</td>\n",
              "    </tr>\n",
              "    <tr>\n",
              "      <th>smoothness_se</th>\n",
              "      <td>0</td>\n",
              "    </tr>\n",
              "    <tr>\n",
              "      <th>compactness_se</th>\n",
              "      <td>0</td>\n",
              "    </tr>\n",
              "    <tr>\n",
              "      <th>concavity_se</th>\n",
              "      <td>0</td>\n",
              "    </tr>\n",
              "    <tr>\n",
              "      <th>concave points_se</th>\n",
              "      <td>0</td>\n",
              "    </tr>\n",
              "    <tr>\n",
              "      <th>symmetry_se</th>\n",
              "      <td>0</td>\n",
              "    </tr>\n",
              "    <tr>\n",
              "      <th>fractal_dimension_se</th>\n",
              "      <td>0</td>\n",
              "    </tr>\n",
              "    <tr>\n",
              "      <th>radius_worst</th>\n",
              "      <td>0</td>\n",
              "    </tr>\n",
              "    <tr>\n",
              "      <th>texture_worst</th>\n",
              "      <td>0</td>\n",
              "    </tr>\n",
              "    <tr>\n",
              "      <th>perimeter_worst</th>\n",
              "      <td>0</td>\n",
              "    </tr>\n",
              "    <tr>\n",
              "      <th>area_worst</th>\n",
              "      <td>0</td>\n",
              "    </tr>\n",
              "    <tr>\n",
              "      <th>smoothness_worst</th>\n",
              "      <td>0</td>\n",
              "    </tr>\n",
              "    <tr>\n",
              "      <th>compactness_worst</th>\n",
              "      <td>0</td>\n",
              "    </tr>\n",
              "    <tr>\n",
              "      <th>concavity_worst</th>\n",
              "      <td>0</td>\n",
              "    </tr>\n",
              "    <tr>\n",
              "      <th>concave points_worst</th>\n",
              "      <td>0</td>\n",
              "    </tr>\n",
              "    <tr>\n",
              "      <th>symmetry_worst</th>\n",
              "      <td>0</td>\n",
              "    </tr>\n",
              "    <tr>\n",
              "      <th>fractal_dimension_worst</th>\n",
              "      <td>0</td>\n",
              "    </tr>\n",
              "  </tbody>\n",
              "</table>\n",
              "</div><br><label><b>dtype:</b> int64</label>"
            ]
          },
          "metadata": {},
          "execution_count": 9
        }
      ]
    },
    {
      "cell_type": "code",
      "source": [
        "df.drop(columns=['id'],inplace=True)# drop id column"
      ],
      "metadata": {
        "id": "kALqAJMcdeq6"
      },
      "execution_count": 13,
      "outputs": []
    },
    {
      "cell_type": "code",
      "source": [
        "df.info()"
      ],
      "metadata": {
        "colab": {
          "base_uri": "https://localhost:8080/"
        },
        "id": "vtgIq7S1detk",
        "outputId": "59297e10-13dd-4679-cbcb-4f451b3d4543"
      },
      "execution_count": 14,
      "outputs": [
        {
          "output_type": "stream",
          "name": "stdout",
          "text": [
            "<class 'pandas.core.frame.DataFrame'>\n",
            "RangeIndex: 569 entries, 0 to 568\n",
            "Data columns (total 31 columns):\n",
            " #   Column                   Non-Null Count  Dtype  \n",
            "---  ------                   --------------  -----  \n",
            " 0   diagnosis                569 non-null    object \n",
            " 1   radius_mean              569 non-null    float64\n",
            " 2   texture_mean             569 non-null    float64\n",
            " 3   perimeter_mean           569 non-null    float64\n",
            " 4   area_mean                569 non-null    float64\n",
            " 5   smoothness_mean          569 non-null    float64\n",
            " 6   compactness_mean         569 non-null    float64\n",
            " 7   concavity_mean           569 non-null    float64\n",
            " 8   concave points_mean      569 non-null    float64\n",
            " 9   symmetry_mean            569 non-null    float64\n",
            " 10  fractal_dimension_mean   569 non-null    float64\n",
            " 11  radius_se                569 non-null    float64\n",
            " 12  texture_se               569 non-null    float64\n",
            " 13  perimeter_se             569 non-null    float64\n",
            " 14  area_se                  569 non-null    float64\n",
            " 15  smoothness_se            569 non-null    float64\n",
            " 16  compactness_se           569 non-null    float64\n",
            " 17  concavity_se             569 non-null    float64\n",
            " 18  concave points_se        569 non-null    float64\n",
            " 19  symmetry_se              569 non-null    float64\n",
            " 20  fractal_dimension_se     569 non-null    float64\n",
            " 21  radius_worst             569 non-null    float64\n",
            " 22  texture_worst            569 non-null    float64\n",
            " 23  perimeter_worst          569 non-null    float64\n",
            " 24  area_worst               569 non-null    float64\n",
            " 25  smoothness_worst         569 non-null    float64\n",
            " 26  compactness_worst        569 non-null    float64\n",
            " 27  concavity_worst          569 non-null    float64\n",
            " 28  concave points_worst     569 non-null    float64\n",
            " 29  symmetry_worst           569 non-null    float64\n",
            " 30  fractal_dimension_worst  569 non-null    float64\n",
            "dtypes: float64(30), object(1)\n",
            "memory usage: 137.9+ KB\n"
          ]
        }
      ]
    },
    {
      "cell_type": "markdown",
      "source": [
        "# convert diagnosis to binary"
      ],
      "metadata": {
        "id": "I7YjBL0FfqdO"
      }
    },
    {
      "cell_type": "code",
      "source": [
        "df['diagnosis'].unique()\n",
        "\n",
        "#M-Malignant (1)\n",
        "#B-Benign    (0)\n",
        "\n",
        "# we can use label encoder which does a simillar job but the computer decides its values\n",
        "#since it is a medical dataset is better to use map fucntion to converts its value to our preference\n",
        "\n",
        "df['diagnosis']=df['diagnosis'].map({\"M\":1,\"B\":0})\n",
        "\n",
        "df['diagnosis']"
      ],
      "metadata": {
        "colab": {
          "base_uri": "https://localhost:8080/",
          "height": 458
        },
        "id": "hhPYslHydewI",
        "outputId": "0ec4dafb-0ee1-496b-e413-a7485e2c273b"
      },
      "execution_count": 16,
      "outputs": [
        {
          "output_type": "execute_result",
          "data": {
            "text/plain": [
              "0      1\n",
              "1      1\n",
              "2      1\n",
              "3      1\n",
              "4      1\n",
              "      ..\n",
              "564    1\n",
              "565    1\n",
              "566    1\n",
              "567    1\n",
              "568    0\n",
              "Name: diagnosis, Length: 569, dtype: int64"
            ],
            "text/html": [
              "<div>\n",
              "<style scoped>\n",
              "    .dataframe tbody tr th:only-of-type {\n",
              "        vertical-align: middle;\n",
              "    }\n",
              "\n",
              "    .dataframe tbody tr th {\n",
              "        vertical-align: top;\n",
              "    }\n",
              "\n",
              "    .dataframe thead th {\n",
              "        text-align: right;\n",
              "    }\n",
              "</style>\n",
              "<table border=\"1\" class=\"dataframe\">\n",
              "  <thead>\n",
              "    <tr style=\"text-align: right;\">\n",
              "      <th></th>\n",
              "      <th>diagnosis</th>\n",
              "    </tr>\n",
              "  </thead>\n",
              "  <tbody>\n",
              "    <tr>\n",
              "      <th>0</th>\n",
              "      <td>1</td>\n",
              "    </tr>\n",
              "    <tr>\n",
              "      <th>1</th>\n",
              "      <td>1</td>\n",
              "    </tr>\n",
              "    <tr>\n",
              "      <th>2</th>\n",
              "      <td>1</td>\n",
              "    </tr>\n",
              "    <tr>\n",
              "      <th>3</th>\n",
              "      <td>1</td>\n",
              "    </tr>\n",
              "    <tr>\n",
              "      <th>4</th>\n",
              "      <td>1</td>\n",
              "    </tr>\n",
              "    <tr>\n",
              "      <th>...</th>\n",
              "      <td>...</td>\n",
              "    </tr>\n",
              "    <tr>\n",
              "      <th>564</th>\n",
              "      <td>1</td>\n",
              "    </tr>\n",
              "    <tr>\n",
              "      <th>565</th>\n",
              "      <td>1</td>\n",
              "    </tr>\n",
              "    <tr>\n",
              "      <th>566</th>\n",
              "      <td>1</td>\n",
              "    </tr>\n",
              "    <tr>\n",
              "      <th>567</th>\n",
              "      <td>1</td>\n",
              "    </tr>\n",
              "    <tr>\n",
              "      <th>568</th>\n",
              "      <td>0</td>\n",
              "    </tr>\n",
              "  </tbody>\n",
              "</table>\n",
              "<p>569 rows × 1 columns</p>\n",
              "</div><br><label><b>dtype:</b> int64</label>"
            ]
          },
          "metadata": {},
          "execution_count": 16
        }
      ]
    },
    {
      "cell_type": "markdown",
      "source": [
        "#Create the feature and target"
      ],
      "metadata": {
        "id": "I-PVQJ5FgqEL"
      }
    },
    {
      "cell_type": "code",
      "source": [
        "X = df.drop('diagnosis', axis=1)\n",
        "y = df['diagnosis']"
      ],
      "metadata": {
        "id": "24e7dSnzfWXG"
      },
      "execution_count": 19,
      "outputs": []
    },
    {
      "cell_type": "code",
      "source": [
        "X_train, X_test, y_train, y_test = train_test_split(X, y, test_size=0.2, random_state=42)"
      ],
      "metadata": {
        "id": "_hC7x364fWUw"
      },
      "execution_count": 20,
      "outputs": []
    },
    {
      "cell_type": "markdown",
      "source": [
        "Normalize The data"
      ],
      "metadata": {
        "id": "w3yxqKAXhOiT"
      }
    },
    {
      "cell_type": "markdown",
      "source": [
        "![image.png](data:image/png;base64,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)\n"
      ],
      "metadata": {
        "id": "GeYPNUuDhXkA"
      }
    },
    {
      "cell_type": "code",
      "source": [
        "scaler=MinMaxScaler()\n",
        "X_train_scaled=scaler.fit_transform(X_train)\n",
        "X_test_scaled=scaler.transform(X_test)"
      ],
      "metadata": {
        "id": "qWKNdQDEfWSM"
      },
      "execution_count": 21,
      "outputs": []
    },
    {
      "cell_type": "markdown",
      "source": [
        "#Create Neural Network"
      ],
      "metadata": {
        "id": "HwRR5WqPhz9w"
      }
    },
    {
      "cell_type": "code",
      "source": [
        "input_dim = X_train_scaled.shape[1]\n",
        "\n",
        "input_dim"
      ],
      "metadata": {
        "colab": {
          "base_uri": "https://localhost:8080/"
        },
        "id": "0zeMD-Y9iT_R",
        "outputId": "5a25f075-1bdc-4bcf-a48c-79ea76af614a"
      },
      "execution_count": 22,
      "outputs": [
        {
          "output_type": "execute_result",
          "data": {
            "text/plain": [
              "30"
            ]
          },
          "metadata": {},
          "execution_count": 22
        }
      ]
    },
    {
      "cell_type": "code",
      "source": [
        "model = keras.Sequential([\n",
        "    layers.Dense(input_dim,activation='relu',input_shape = [input_dim]),#Input and hidden layer\n",
        "    layers.Dense(1,'sigmoid')#Output layer,since we are only predictiong a single value 1 connection will do and the activation is sigmoid since we are predicting a binary class\n",
        "])"
      ],
      "metadata": {
        "colab": {
          "base_uri": "https://localhost:8080/"
        },
        "id": "-zh9EaCShNa7",
        "outputId": "3ad042e4-dbf5-4858-f82b-840840aef9a8"
      },
      "execution_count": 23,
      "outputs": [
        {
          "output_type": "stream",
          "name": "stderr",
          "text": [
            "/usr/local/lib/python3.12/dist-packages/keras/src/layers/core/dense.py:93: UserWarning: Do not pass an `input_shape`/`input_dim` argument to a layer. When using Sequential models, prefer using an `Input(shape)` object as the first layer in the model instead.\n",
            "  super().__init__(activity_regularizer=activity_regularizer, **kwargs)\n"
          ]
        }
      ]
    },
    {
      "cell_type": "code",
      "source": [
        "# compile model\n",
        "model.compile(optimizer='adam',loss='binary_crossentropy',metrics=['accuracy'])\n",
        "\n"
      ],
      "metadata": {
        "id": "_ViCghYjhNYV"
      },
      "execution_count": 24,
      "outputs": []
    },
    {
      "cell_type": "markdown",
      "source": [
        "#Epoch\n",
        "\n",
        "* An \"epoch\" is one complete pass through the entire training dataset.\n",
        "\n",
        "* Setting epochs=100 means the training algorithm will iterate over all the training examples 100 times.\n",
        "\n",
        "* During each epoch, the model updates its internal weights and biases based on the errors it makes on the training data."
      ],
      "metadata": {
        "id": "dKDoJIKfjlY4"
      }
    },
    {
      "cell_type": "markdown",
      "source": [
        "#Validation split\n",
        "\n",
        "* This is an important parameter for monitoring the model's performance during training and detecting overfitting.\n",
        "\n",
        "* It tell the fit method to allocate serveral data from the training data as a validation data.\n",
        "\n",
        "* validation_slit = 0.2 means 20% of the X_train_scaled and y_train data will be used for validation and reminging 80 % will be used for accual training."
      ],
      "metadata": {
        "id": "zTfxt5LVjlTf"
      }
    },
    {
      "cell_type": "markdown",
      "source": [
        "#Batch Size\n",
        "\n",
        "* A \"batch\" is a subset of the training data that is used in one iteration of training.\n",
        "\n",
        "* Setting batch_size=32 means that the training data will be divided into chunks of 32samples. The model's weights will be updated after processing each batch of 32 samples, rather than after processing all training samples (which would be batch_size = len(X_train_scaled)).\n",
        "\n",
        "`To make your model to train fast , you can increase the batch size`"
      ],
      "metadata": {
        "id": "2nsBcCxLjlLW"
      }
    },
    {
      "cell_type": "code",
      "source": [
        "#train the model\n",
        "\n",
        "created_model = model.fit(X_train_scaled,y_train,epochs = 100,batch_size=32,validation_split=0.2)"
      ],
      "metadata": {
        "colab": {
          "base_uri": "https://localhost:8080/"
        },
        "id": "l2ljy6S0i-VQ",
        "outputId": "9930de7c-073f-47a3-dcc4-c395a225c37c"
      },
      "execution_count": 26,
      "outputs": [
        {
          "output_type": "stream",
          "name": "stdout",
          "text": [
            "Epoch 1/100\n",
            "\u001b[1m12/12\u001b[0m \u001b[32m━━━━━━━━━━━━━━━━━━━━\u001b[0m\u001b[37m\u001b[0m \u001b[1m1s\u001b[0m 22ms/step - accuracy: 0.4593 - loss: 0.6842 - val_accuracy: 0.7363 - val_loss: 0.6542\n",
            "Epoch 2/100\n",
            "\u001b[1m12/12\u001b[0m \u001b[32m━━━━━━━━━━━━━━━━━━━━\u001b[0m\u001b[37m\u001b[0m \u001b[1m0s\u001b[0m 11ms/step - accuracy: 0.7177 - loss: 0.6499 - val_accuracy: 0.8901 - val_loss: 0.6312\n",
            "Epoch 3/100\n",
            "\u001b[1m12/12\u001b[0m \u001b[32m━━━━━━━━━━━━━━━━━━━━\u001b[0m\u001b[37m\u001b[0m \u001b[1m0s\u001b[0m 8ms/step - accuracy: 0.8540 - loss: 0.6354 - val_accuracy: 0.9121 - val_loss: 0.6113\n",
            "Epoch 4/100\n",
            "\u001b[1m12/12\u001b[0m \u001b[32m━━━━━━━━━━━━━━━━━━━━\u001b[0m\u001b[37m\u001b[0m \u001b[1m0s\u001b[0m 8ms/step - accuracy: 0.8595 - loss: 0.6128 - val_accuracy: 0.8901 - val_loss: 0.5920\n",
            "Epoch 5/100\n",
            "\u001b[1m12/12\u001b[0m \u001b[32m━━━━━━━━━━━━━━━━━━━━\u001b[0m\u001b[37m\u001b[0m \u001b[1m0s\u001b[0m 8ms/step - accuracy: 0.8689 - loss: 0.5939 - val_accuracy: 0.8791 - val_loss: 0.5728\n",
            "Epoch 6/100\n",
            "\u001b[1m12/12\u001b[0m \u001b[32m━━━━━━━━━━━━━━━━━━━━\u001b[0m\u001b[37m\u001b[0m \u001b[1m0s\u001b[0m 8ms/step - accuracy: 0.9047 - loss: 0.5743 - val_accuracy: 0.8791 - val_loss: 0.5533\n",
            "Epoch 7/100\n",
            "\u001b[1m12/12\u001b[0m \u001b[32m━━━━━━━━━━━━━━━━━━━━\u001b[0m\u001b[37m\u001b[0m \u001b[1m0s\u001b[0m 13ms/step - accuracy: 0.8762 - loss: 0.5542 - val_accuracy: 0.8681 - val_loss: 0.5340\n",
            "Epoch 8/100\n",
            "\u001b[1m12/12\u001b[0m \u001b[32m━━━━━━━━━━━━━━━━━━━━\u001b[0m\u001b[37m\u001b[0m \u001b[1m0s\u001b[0m 18ms/step - accuracy: 0.8900 - loss: 0.5356 - val_accuracy: 0.8681 - val_loss: 0.5138\n",
            "Epoch 9/100\n",
            "\u001b[1m12/12\u001b[0m \u001b[32m━━━━━━━━━━━━━━━━━━━━\u001b[0m\u001b[37m\u001b[0m \u001b[1m0s\u001b[0m 17ms/step - accuracy: 0.8810 - loss: 0.5258 - val_accuracy: 0.8571 - val_loss: 0.4937\n",
            "Epoch 10/100\n",
            "\u001b[1m12/12\u001b[0m \u001b[32m━━━━━━━━━━━━━━━━━━━━\u001b[0m\u001b[37m\u001b[0m \u001b[1m0s\u001b[0m 14ms/step - accuracy: 0.8886 - loss: 0.4849 - val_accuracy: 0.8681 - val_loss: 0.4737\n",
            "Epoch 11/100\n",
            "\u001b[1m12/12\u001b[0m \u001b[32m━━━━━━━━━━━━━━━━━━━━\u001b[0m\u001b[37m\u001b[0m \u001b[1m0s\u001b[0m 14ms/step - accuracy: 0.8926 - loss: 0.4738 - val_accuracy: 0.8681 - val_loss: 0.4542\n",
            "Epoch 12/100\n",
            "\u001b[1m12/12\u001b[0m \u001b[32m━━━━━━━━━━━━━━━━━━━━\u001b[0m\u001b[37m\u001b[0m \u001b[1m0s\u001b[0m 14ms/step - accuracy: 0.9037 - loss: 0.4475 - val_accuracy: 0.8791 - val_loss: 0.4355\n",
            "Epoch 13/100\n",
            "\u001b[1m12/12\u001b[0m \u001b[32m━━━━━━━━━━━━━━━━━━━━\u001b[0m\u001b[37m\u001b[0m \u001b[1m0s\u001b[0m 11ms/step - accuracy: 0.9154 - loss: 0.4259 - val_accuracy: 0.8681 - val_loss: 0.4176\n",
            "Epoch 14/100\n",
            "\u001b[1m12/12\u001b[0m \u001b[32m━━━━━━━━━━━━━━━━━━━━\u001b[0m\u001b[37m\u001b[0m \u001b[1m0s\u001b[0m 14ms/step - accuracy: 0.9116 - loss: 0.4080 - val_accuracy: 0.8791 - val_loss: 0.4008\n",
            "Epoch 15/100\n",
            "\u001b[1m12/12\u001b[0m \u001b[32m━━━━━━━━━━━━━━━━━━━━\u001b[0m\u001b[37m\u001b[0m \u001b[1m0s\u001b[0m 15ms/step - accuracy: 0.9208 - loss: 0.3858 - val_accuracy: 0.8791 - val_loss: 0.3848\n",
            "Epoch 16/100\n",
            "\u001b[1m12/12\u001b[0m \u001b[32m━━━━━━━━━━━━━━━━━━━━\u001b[0m\u001b[37m\u001b[0m \u001b[1m0s\u001b[0m 11ms/step - accuracy: 0.9190 - loss: 0.3687 - val_accuracy: 0.8681 - val_loss: 0.3716\n",
            "Epoch 17/100\n",
            "\u001b[1m12/12\u001b[0m \u001b[32m━━━━━━━━━━━━━━━━━━━━\u001b[0m\u001b[37m\u001b[0m \u001b[1m0s\u001b[0m 11ms/step - accuracy: 0.9095 - loss: 0.3823 - val_accuracy: 0.8901 - val_loss: 0.3571\n",
            "Epoch 18/100\n",
            "\u001b[1m12/12\u001b[0m \u001b[32m━━━━━━━━━━━━━━━━━━━━\u001b[0m\u001b[37m\u001b[0m \u001b[1m0s\u001b[0m 9ms/step - accuracy: 0.9250 - loss: 0.3469 - val_accuracy: 0.8901 - val_loss: 0.3451\n",
            "Epoch 19/100\n",
            "\u001b[1m12/12\u001b[0m \u001b[32m━━━━━━━━━━━━━━━━━━━━\u001b[0m\u001b[37m\u001b[0m \u001b[1m0s\u001b[0m 8ms/step - accuracy: 0.9229 - loss: 0.3368 - val_accuracy: 0.8681 - val_loss: 0.3328\n",
            "Epoch 20/100\n",
            "\u001b[1m12/12\u001b[0m \u001b[32m━━━━━━━━━━━━━━━━━━━━\u001b[0m\u001b[37m\u001b[0m \u001b[1m0s\u001b[0m 8ms/step - accuracy: 0.9105 - loss: 0.3156 - val_accuracy: 0.8791 - val_loss: 0.3218\n",
            "Epoch 21/100\n",
            "\u001b[1m12/12\u001b[0m \u001b[32m━━━━━━━━━━━━━━━━━━━━\u001b[0m\u001b[37m\u001b[0m \u001b[1m0s\u001b[0m 8ms/step - accuracy: 0.8971 - loss: 0.3228 - val_accuracy: 0.9011 - val_loss: 0.3129\n",
            "Epoch 22/100\n",
            "\u001b[1m12/12\u001b[0m \u001b[32m━━━━━━━━━━━━━━━━━━━━\u001b[0m\u001b[37m\u001b[0m \u001b[1m0s\u001b[0m 8ms/step - accuracy: 0.8928 - loss: 0.3139 - val_accuracy: 0.9011 - val_loss: 0.3034\n",
            "Epoch 23/100\n",
            "\u001b[1m12/12\u001b[0m \u001b[32m━━━━━━━━━━━━━━━━━━━━\u001b[0m\u001b[37m\u001b[0m \u001b[1m0s\u001b[0m 8ms/step - accuracy: 0.9117 - loss: 0.3017 - val_accuracy: 0.8791 - val_loss: 0.2905\n",
            "Epoch 24/100\n",
            "\u001b[1m12/12\u001b[0m \u001b[32m━━━━━━━━━━━━━━━━━━━━\u001b[0m\u001b[37m\u001b[0m \u001b[1m0s\u001b[0m 8ms/step - accuracy: 0.9319 - loss: 0.2817 - val_accuracy: 0.9011 - val_loss: 0.2834\n",
            "Epoch 25/100\n",
            "\u001b[1m12/12\u001b[0m \u001b[32m━━━━━━━━━━━━━━━━━━━━\u001b[0m\u001b[37m\u001b[0m \u001b[1m0s\u001b[0m 8ms/step - accuracy: 0.9063 - loss: 0.2666 - val_accuracy: 0.8901 - val_loss: 0.2727\n",
            "Epoch 26/100\n",
            "\u001b[1m12/12\u001b[0m \u001b[32m━━━━━━━━━━━━━━━━━━━━\u001b[0m\u001b[37m\u001b[0m \u001b[1m0s\u001b[0m 8ms/step - accuracy: 0.9404 - loss: 0.2643 - val_accuracy: 0.8901 - val_loss: 0.2654\n",
            "Epoch 27/100\n",
            "\u001b[1m12/12\u001b[0m \u001b[32m━━━━━━━━━━━━━━━━━━━━\u001b[0m\u001b[37m\u001b[0m \u001b[1m0s\u001b[0m 8ms/step - accuracy: 0.8995 - loss: 0.2721 - val_accuracy: 0.8791 - val_loss: 0.2570\n",
            "Epoch 28/100\n",
            "\u001b[1m12/12\u001b[0m \u001b[32m━━━━━━━━━━━━━━━━━━━━\u001b[0m\u001b[37m\u001b[0m \u001b[1m0s\u001b[0m 8ms/step - accuracy: 0.9283 - loss: 0.2405 - val_accuracy: 0.8901 - val_loss: 0.2503\n",
            "Epoch 29/100\n",
            "\u001b[1m12/12\u001b[0m \u001b[32m━━━━━━━━━━━━━━━━━━━━\u001b[0m\u001b[37m\u001b[0m \u001b[1m0s\u001b[0m 8ms/step - accuracy: 0.9158 - loss: 0.2440 - val_accuracy: 0.9011 - val_loss: 0.2463\n",
            "Epoch 30/100\n",
            "\u001b[1m12/12\u001b[0m \u001b[32m━━━━━━━━━━━━━━━━━━━━\u001b[0m\u001b[37m\u001b[0m \u001b[1m0s\u001b[0m 8ms/step - accuracy: 0.9274 - loss: 0.2325 - val_accuracy: 0.8901 - val_loss: 0.2397\n",
            "Epoch 31/100\n",
            "\u001b[1m12/12\u001b[0m \u001b[32m━━━━━━━━━━━━━━━━━━━━\u001b[0m\u001b[37m\u001b[0m \u001b[1m0s\u001b[0m 8ms/step - accuracy: 0.9359 - loss: 0.2320 - val_accuracy: 0.9011 - val_loss: 0.2351\n",
            "Epoch 32/100\n",
            "\u001b[1m12/12\u001b[0m \u001b[32m━━━━━━━━━━━━━━━━━━━━\u001b[0m\u001b[37m\u001b[0m \u001b[1m0s\u001b[0m 8ms/step - accuracy: 0.9438 - loss: 0.2184 - val_accuracy: 0.8901 - val_loss: 0.2282\n",
            "Epoch 33/100\n",
            "\u001b[1m12/12\u001b[0m \u001b[32m━━━━━━━━━━━━━━━━━━━━\u001b[0m\u001b[37m\u001b[0m \u001b[1m0s\u001b[0m 7ms/step - accuracy: 0.9199 - loss: 0.2339 - val_accuracy: 0.8901 - val_loss: 0.2239\n",
            "Epoch 34/100\n",
            "\u001b[1m12/12\u001b[0m \u001b[32m━━━━━━━━━━━━━━━━━━━━\u001b[0m\u001b[37m\u001b[0m \u001b[1m0s\u001b[0m 8ms/step - accuracy: 0.9431 - loss: 0.2052 - val_accuracy: 0.8901 - val_loss: 0.2199\n",
            "Epoch 35/100\n",
            "\u001b[1m12/12\u001b[0m \u001b[32m━━━━━━━━━━━━━━━━━━━━\u001b[0m\u001b[37m\u001b[0m \u001b[1m0s\u001b[0m 8ms/step - accuracy: 0.9475 - loss: 0.2203 - val_accuracy: 0.8791 - val_loss: 0.2155\n",
            "Epoch 36/100\n",
            "\u001b[1m12/12\u001b[0m \u001b[32m━━━━━━━━━━━━━━━━━━━━\u001b[0m\u001b[37m\u001b[0m \u001b[1m0s\u001b[0m 8ms/step - accuracy: 0.9344 - loss: 0.2203 - val_accuracy: 0.9011 - val_loss: 0.2123\n",
            "Epoch 37/100\n",
            "\u001b[1m12/12\u001b[0m \u001b[32m━━━━━━━━━━━━━━━━━━━━\u001b[0m\u001b[37m\u001b[0m \u001b[1m0s\u001b[0m 8ms/step - accuracy: 0.9392 - loss: 0.2054 - val_accuracy: 0.8901 - val_loss: 0.2078\n",
            "Epoch 38/100\n",
            "\u001b[1m12/12\u001b[0m \u001b[32m━━━━━━━━━━━━━━━━━━━━\u001b[0m\u001b[37m\u001b[0m \u001b[1m0s\u001b[0m 7ms/step - accuracy: 0.9460 - loss: 0.1964 - val_accuracy: 0.8901 - val_loss: 0.2043\n",
            "Epoch 39/100\n",
            "\u001b[1m12/12\u001b[0m \u001b[32m━━━━━━━━━━━━━━━━━━━━\u001b[0m\u001b[37m\u001b[0m \u001b[1m0s\u001b[0m 8ms/step - accuracy: 0.9470 - loss: 0.1823 - val_accuracy: 0.8901 - val_loss: 0.1992\n",
            "Epoch 40/100\n",
            "\u001b[1m12/12\u001b[0m \u001b[32m━━━━━━━━━━━━━━━━━━━━\u001b[0m\u001b[37m\u001b[0m \u001b[1m0s\u001b[0m 8ms/step - accuracy: 0.9375 - loss: 0.1930 - val_accuracy: 0.8901 - val_loss: 0.1968\n",
            "Epoch 41/100\n",
            "\u001b[1m12/12\u001b[0m \u001b[32m━━━━━━━━━━━━━━━━━━━━\u001b[0m\u001b[37m\u001b[0m \u001b[1m0s\u001b[0m 8ms/step - accuracy: 0.9543 - loss: 0.1679 - val_accuracy: 0.9011 - val_loss: 0.1975\n",
            "Epoch 42/100\n",
            "\u001b[1m12/12\u001b[0m \u001b[32m━━━━━━━━━━━━━━━━━━━━\u001b[0m\u001b[37m\u001b[0m \u001b[1m0s\u001b[0m 7ms/step - accuracy: 0.9522 - loss: 0.1779 - val_accuracy: 0.9011 - val_loss: 0.1896\n",
            "Epoch 43/100\n",
            "\u001b[1m12/12\u001b[0m \u001b[32m━━━━━━━━━━━━━━━━━━━━\u001b[0m\u001b[37m\u001b[0m \u001b[1m0s\u001b[0m 8ms/step - accuracy: 0.9432 - loss: 0.1770 - val_accuracy: 0.8901 - val_loss: 0.1871\n",
            "Epoch 44/100\n",
            "\u001b[1m12/12\u001b[0m \u001b[32m━━━━━━━━━━━━━━━━━━━━\u001b[0m\u001b[37m\u001b[0m \u001b[1m0s\u001b[0m 9ms/step - accuracy: 0.9581 - loss: 0.1690 - val_accuracy: 0.9011 - val_loss: 0.1851\n",
            "Epoch 45/100\n",
            "\u001b[1m12/12\u001b[0m \u001b[32m━━━━━━━━━━━━━━━━━━━━\u001b[0m\u001b[37m\u001b[0m \u001b[1m0s\u001b[0m 8ms/step - accuracy: 0.9464 - loss: 0.2009 - val_accuracy: 0.9011 - val_loss: 0.1827\n",
            "Epoch 46/100\n",
            "\u001b[1m12/12\u001b[0m \u001b[32m━━━━━━━━━━━━━━━━━━━━\u001b[0m\u001b[37m\u001b[0m \u001b[1m0s\u001b[0m 8ms/step - accuracy: 0.9579 - loss: 0.1686 - val_accuracy: 0.9011 - val_loss: 0.1780\n",
            "Epoch 47/100\n",
            "\u001b[1m12/12\u001b[0m \u001b[32m━━━━━━━━━━━━━━━━━━━━\u001b[0m\u001b[37m\u001b[0m \u001b[1m0s\u001b[0m 8ms/step - accuracy: 0.9486 - loss: 0.1750 - val_accuracy: 0.8901 - val_loss: 0.1762\n",
            "Epoch 48/100\n",
            "\u001b[1m12/12\u001b[0m \u001b[32m━━━━━━━━━━━━━━━━━━━━\u001b[0m\u001b[37m\u001b[0m \u001b[1m0s\u001b[0m 8ms/step - accuracy: 0.9596 - loss: 0.1607 - val_accuracy: 0.9011 - val_loss: 0.1770\n",
            "Epoch 49/100\n",
            "\u001b[1m12/12\u001b[0m \u001b[32m━━━━━━━━━━━━━━━━━━━━\u001b[0m\u001b[37m\u001b[0m \u001b[1m0s\u001b[0m 8ms/step - accuracy: 0.9538 - loss: 0.1709 - val_accuracy: 0.9121 - val_loss: 0.1726\n",
            "Epoch 50/100\n",
            "\u001b[1m12/12\u001b[0m \u001b[32m━━━━━━━━━━━━━━━━━━━━\u001b[0m\u001b[37m\u001b[0m \u001b[1m0s\u001b[0m 8ms/step - accuracy: 0.9601 - loss: 0.1481 - val_accuracy: 0.9121 - val_loss: 0.1679\n",
            "Epoch 51/100\n",
            "\u001b[1m12/12\u001b[0m \u001b[32m━━━━━━━━━━━━━━━━━━━━\u001b[0m\u001b[37m\u001b[0m \u001b[1m0s\u001b[0m 8ms/step - accuracy: 0.9552 - loss: 0.1604 - val_accuracy: 0.9011 - val_loss: 0.1690\n",
            "Epoch 52/100\n",
            "\u001b[1m12/12\u001b[0m \u001b[32m━━━━━━━━━━━━━━━━━━━━\u001b[0m\u001b[37m\u001b[0m \u001b[1m0s\u001b[0m 8ms/step - accuracy: 0.9667 - loss: 0.1441 - val_accuracy: 0.9231 - val_loss: 0.1656\n",
            "Epoch 53/100\n",
            "\u001b[1m12/12\u001b[0m \u001b[32m━━━━━━━━━━━━━━━━━━━━\u001b[0m\u001b[37m\u001b[0m \u001b[1m0s\u001b[0m 10ms/step - accuracy: 0.9678 - loss: 0.1545 - val_accuracy: 0.9231 - val_loss: 0.1640\n",
            "Epoch 54/100\n",
            "\u001b[1m12/12\u001b[0m \u001b[32m━━━━━━━━━━━━━━━━━━━━\u001b[0m\u001b[37m\u001b[0m \u001b[1m0s\u001b[0m 8ms/step - accuracy: 0.9552 - loss: 0.1574 - val_accuracy: 0.9231 - val_loss: 0.1613\n",
            "Epoch 55/100\n",
            "\u001b[1m12/12\u001b[0m \u001b[32m━━━━━━━━━━━━━━━━━━━━\u001b[0m\u001b[37m\u001b[0m \u001b[1m0s\u001b[0m 8ms/step - accuracy: 0.9766 - loss: 0.1309 - val_accuracy: 0.9231 - val_loss: 0.1588\n",
            "Epoch 56/100\n",
            "\u001b[1m12/12\u001b[0m \u001b[32m━━━━━━━━━━━━━━━━━━━━\u001b[0m\u001b[37m\u001b[0m \u001b[1m0s\u001b[0m 8ms/step - accuracy: 0.9710 - loss: 0.1458 - val_accuracy: 0.9231 - val_loss: 0.1610\n",
            "Epoch 57/100\n",
            "\u001b[1m12/12\u001b[0m \u001b[32m━━━━━━━━━━━━━━━━━━━━\u001b[0m\u001b[37m\u001b[0m \u001b[1m0s\u001b[0m 8ms/step - accuracy: 0.9502 - loss: 0.1661 - val_accuracy: 0.9231 - val_loss: 0.1578\n",
            "Epoch 58/100\n",
            "\u001b[1m12/12\u001b[0m \u001b[32m━━━━━━━━━━━━━━━━━━━━\u001b[0m\u001b[37m\u001b[0m \u001b[1m0s\u001b[0m 8ms/step - accuracy: 0.9766 - loss: 0.1362 - val_accuracy: 0.9231 - val_loss: 0.1528\n",
            "Epoch 59/100\n",
            "\u001b[1m12/12\u001b[0m \u001b[32m━━━━━━━━━━━━━━━━━━━━\u001b[0m\u001b[37m\u001b[0m \u001b[1m0s\u001b[0m 9ms/step - accuracy: 0.9682 - loss: 0.1400 - val_accuracy: 0.9451 - val_loss: 0.1523\n",
            "Epoch 60/100\n",
            "\u001b[1m12/12\u001b[0m \u001b[32m━━━━━━━━━━━━━━━━━━━━\u001b[0m\u001b[37m\u001b[0m \u001b[1m0s\u001b[0m 8ms/step - accuracy: 0.9705 - loss: 0.1477 - val_accuracy: 0.9451 - val_loss: 0.1511\n",
            "Epoch 61/100\n",
            "\u001b[1m12/12\u001b[0m \u001b[32m━━━━━━━━━━━━━━━━━━━━\u001b[0m\u001b[37m\u001b[0m \u001b[1m0s\u001b[0m 8ms/step - accuracy: 0.9768 - loss: 0.1226 - val_accuracy: 0.9341 - val_loss: 0.1508\n",
            "Epoch 62/100\n",
            "\u001b[1m12/12\u001b[0m \u001b[32m━━━━━━━━━━━━━━━━━━━━\u001b[0m\u001b[37m\u001b[0m \u001b[1m0s\u001b[0m 9ms/step - accuracy: 0.9832 - loss: 0.1138 - val_accuracy: 0.9341 - val_loss: 0.1473\n",
            "Epoch 63/100\n",
            "\u001b[1m12/12\u001b[0m \u001b[32m━━━━━━━━━━━━━━━━━━━━\u001b[0m\u001b[37m\u001b[0m \u001b[1m0s\u001b[0m 8ms/step - accuracy: 0.9687 - loss: 0.1301 - val_accuracy: 0.9451 - val_loss: 0.1476\n",
            "Epoch 64/100\n",
            "\u001b[1m12/12\u001b[0m \u001b[32m━━━━━━━━━━━━━━━━━━━━\u001b[0m\u001b[37m\u001b[0m \u001b[1m0s\u001b[0m 8ms/step - accuracy: 0.9768 - loss: 0.1216 - val_accuracy: 0.9341 - val_loss: 0.1472\n",
            "Epoch 65/100\n",
            "\u001b[1m12/12\u001b[0m \u001b[32m━━━━━━━━━━━━━━━━━━━━\u001b[0m\u001b[37m\u001b[0m \u001b[1m0s\u001b[0m 8ms/step - accuracy: 0.9646 - loss: 0.1377 - val_accuracy: 0.9341 - val_loss: 0.1428\n",
            "Epoch 66/100\n",
            "\u001b[1m12/12\u001b[0m \u001b[32m━━━━━━━━━━━━━━━━━━━━\u001b[0m\u001b[37m\u001b[0m \u001b[1m0s\u001b[0m 8ms/step - accuracy: 0.9716 - loss: 0.1326 - val_accuracy: 0.9451 - val_loss: 0.1429\n",
            "Epoch 67/100\n",
            "\u001b[1m12/12\u001b[0m \u001b[32m━━━━━━━━━━━━━━━━━━━━\u001b[0m\u001b[37m\u001b[0m \u001b[1m0s\u001b[0m 8ms/step - accuracy: 0.9716 - loss: 0.1338 - val_accuracy: 0.9341 - val_loss: 0.1434\n",
            "Epoch 68/100\n",
            "\u001b[1m12/12\u001b[0m \u001b[32m━━━━━━━━━━━━━━━━━━━━\u001b[0m\u001b[37m\u001b[0m \u001b[1m0s\u001b[0m 8ms/step - accuracy: 0.9829 - loss: 0.1118 - val_accuracy: 0.9451 - val_loss: 0.1410\n",
            "Epoch 69/100\n",
            "\u001b[1m12/12\u001b[0m \u001b[32m━━━━━━━━━━━━━━━━━━━━\u001b[0m\u001b[37m\u001b[0m \u001b[1m0s\u001b[0m 8ms/step - accuracy: 0.9468 - loss: 0.1595 - val_accuracy: 0.9451 - val_loss: 0.1399\n",
            "Epoch 70/100\n",
            "\u001b[1m12/12\u001b[0m \u001b[32m━━━━━━━━━━━━━━━━━━━━\u001b[0m\u001b[37m\u001b[0m \u001b[1m0s\u001b[0m 9ms/step - accuracy: 0.9814 - loss: 0.1106 - val_accuracy: 0.9451 - val_loss: 0.1365\n",
            "Epoch 71/100\n",
            "\u001b[1m12/12\u001b[0m \u001b[32m━━━━━━━━━━━━━━━━━━━━\u001b[0m\u001b[37m\u001b[0m \u001b[1m0s\u001b[0m 8ms/step - accuracy: 0.9723 - loss: 0.1321 - val_accuracy: 0.9451 - val_loss: 0.1375\n",
            "Epoch 72/100\n",
            "\u001b[1m12/12\u001b[0m \u001b[32m━━━━━━━━━━━━━━━━━━━━\u001b[0m\u001b[37m\u001b[0m \u001b[1m0s\u001b[0m 8ms/step - accuracy: 0.9750 - loss: 0.1180 - val_accuracy: 0.9451 - val_loss: 0.1392\n",
            "Epoch 73/100\n",
            "\u001b[1m12/12\u001b[0m \u001b[32m━━━━━━━━━━━━━━━━━━━━\u001b[0m\u001b[37m\u001b[0m \u001b[1m0s\u001b[0m 8ms/step - accuracy: 0.9813 - loss: 0.1088 - val_accuracy: 0.9560 - val_loss: 0.1355\n",
            "Epoch 74/100\n",
            "\u001b[1m12/12\u001b[0m \u001b[32m━━━━━━━━━━━━━━━━━━━━\u001b[0m\u001b[37m\u001b[0m \u001b[1m0s\u001b[0m 8ms/step - accuracy: 0.9738 - loss: 0.1083 - val_accuracy: 0.9451 - val_loss: 0.1334\n",
            "Epoch 75/100\n",
            "\u001b[1m12/12\u001b[0m \u001b[32m━━━━━━━━━━━━━━━━━━━━\u001b[0m\u001b[37m\u001b[0m \u001b[1m0s\u001b[0m 8ms/step - accuracy: 0.9611 - loss: 0.1301 - val_accuracy: 0.9560 - val_loss: 0.1315\n",
            "Epoch 76/100\n",
            "\u001b[1m12/12\u001b[0m \u001b[32m━━━━━━━━━━━━━━━━━━━━\u001b[0m\u001b[37m\u001b[0m \u001b[1m0s\u001b[0m 8ms/step - accuracy: 0.9801 - loss: 0.1086 - val_accuracy: 0.9560 - val_loss: 0.1330\n",
            "Epoch 77/100\n",
            "\u001b[1m12/12\u001b[0m \u001b[32m━━━━━━━━━━━━━━━━━━━━\u001b[0m\u001b[37m\u001b[0m \u001b[1m0s\u001b[0m 8ms/step - accuracy: 0.9696 - loss: 0.1165 - val_accuracy: 0.9560 - val_loss: 0.1316\n",
            "Epoch 78/100\n",
            "\u001b[1m12/12\u001b[0m \u001b[32m━━━━━━━━━━━━━━━━━━━━\u001b[0m\u001b[37m\u001b[0m \u001b[1m0s\u001b[0m 8ms/step - accuracy: 0.9781 - loss: 0.1034 - val_accuracy: 0.9560 - val_loss: 0.1300\n",
            "Epoch 79/100\n",
            "\u001b[1m12/12\u001b[0m \u001b[32m━━━━━━━━━━━━━━━━━━━━\u001b[0m\u001b[37m\u001b[0m \u001b[1m0s\u001b[0m 9ms/step - accuracy: 0.9689 - loss: 0.1108 - val_accuracy: 0.9560 - val_loss: 0.1282\n",
            "Epoch 80/100\n",
            "\u001b[1m12/12\u001b[0m \u001b[32m━━━━━━━━━━━━━━━━━━━━\u001b[0m\u001b[37m\u001b[0m \u001b[1m0s\u001b[0m 8ms/step - accuracy: 0.9801 - loss: 0.1119 - val_accuracy: 0.9560 - val_loss: 0.1320\n",
            "Epoch 81/100\n",
            "\u001b[1m12/12\u001b[0m \u001b[32m━━━━━━━━━━━━━━━━━━━━\u001b[0m\u001b[37m\u001b[0m \u001b[1m0s\u001b[0m 8ms/step - accuracy: 0.9823 - loss: 0.0935 - val_accuracy: 0.9670 - val_loss: 0.1262\n",
            "Epoch 82/100\n",
            "\u001b[1m12/12\u001b[0m \u001b[32m━━━━━━━━━━━━━━━━━━━━\u001b[0m\u001b[37m\u001b[0m \u001b[1m0s\u001b[0m 8ms/step - accuracy: 0.9751 - loss: 0.1035 - val_accuracy: 0.9560 - val_loss: 0.1249\n",
            "Epoch 83/100\n",
            "\u001b[1m12/12\u001b[0m \u001b[32m━━━━━━━━━━━━━━━━━━━━\u001b[0m\u001b[37m\u001b[0m \u001b[1m0s\u001b[0m 8ms/step - accuracy: 0.9836 - loss: 0.1110 - val_accuracy: 0.9780 - val_loss: 0.1245\n",
            "Epoch 84/100\n",
            "\u001b[1m12/12\u001b[0m \u001b[32m━━━━━━━━━━━━━━━━━━━━\u001b[0m\u001b[37m\u001b[0m \u001b[1m0s\u001b[0m 8ms/step - accuracy: 0.9683 - loss: 0.1077 - val_accuracy: 0.9780 - val_loss: 0.1240\n",
            "Epoch 85/100\n",
            "\u001b[1m12/12\u001b[0m \u001b[32m━━━━━━━━━━━━━━━━━━━━\u001b[0m\u001b[37m\u001b[0m \u001b[1m0s\u001b[0m 8ms/step - accuracy: 0.9731 - loss: 0.1076 - val_accuracy: 0.9560 - val_loss: 0.1258\n",
            "Epoch 86/100\n",
            "\u001b[1m12/12\u001b[0m \u001b[32m━━━━━━━━━━━━━━━━━━━━\u001b[0m\u001b[37m\u001b[0m \u001b[1m0s\u001b[0m 8ms/step - accuracy: 0.9722 - loss: 0.1082 - val_accuracy: 0.9560 - val_loss: 0.1239\n",
            "Epoch 87/100\n",
            "\u001b[1m12/12\u001b[0m \u001b[32m━━━━━━━━━━━━━━━━━━━━\u001b[0m\u001b[37m\u001b[0m \u001b[1m0s\u001b[0m 9ms/step - accuracy: 0.9819 - loss: 0.0906 - val_accuracy: 0.9560 - val_loss: 0.1238\n",
            "Epoch 88/100\n",
            "\u001b[1m12/12\u001b[0m \u001b[32m━━━━━━━━━━━━━━━━━━━━\u001b[0m\u001b[37m\u001b[0m \u001b[1m0s\u001b[0m 10ms/step - accuracy: 0.9801 - loss: 0.0940 - val_accuracy: 0.9780 - val_loss: 0.1214\n",
            "Epoch 89/100\n",
            "\u001b[1m12/12\u001b[0m \u001b[32m━━━━━━━━━━━━━━━━━━━━\u001b[0m\u001b[37m\u001b[0m \u001b[1m0s\u001b[0m 8ms/step - accuracy: 0.9737 - loss: 0.0982 - val_accuracy: 0.9780 - val_loss: 0.1202\n",
            "Epoch 90/100\n",
            "\u001b[1m12/12\u001b[0m \u001b[32m━━━━━━━━━━━━━━━━━━━━\u001b[0m\u001b[37m\u001b[0m \u001b[1m0s\u001b[0m 8ms/step - accuracy: 0.9757 - loss: 0.1040 - val_accuracy: 0.9780 - val_loss: 0.1203\n",
            "Epoch 91/100\n",
            "\u001b[1m12/12\u001b[0m \u001b[32m━━━━━━━━━━━━━━━━━━━━\u001b[0m\u001b[37m\u001b[0m \u001b[1m0s\u001b[0m 8ms/step - accuracy: 0.9738 - loss: 0.1041 - val_accuracy: 0.9780 - val_loss: 0.1192\n",
            "Epoch 92/100\n",
            "\u001b[1m12/12\u001b[0m \u001b[32m━━━━━━━━━━━━━━━━━━━━\u001b[0m\u001b[37m\u001b[0m \u001b[1m0s\u001b[0m 8ms/step - accuracy: 0.9820 - loss: 0.0826 - val_accuracy: 0.9560 - val_loss: 0.1198\n",
            "Epoch 93/100\n",
            "\u001b[1m12/12\u001b[0m \u001b[32m━━━━━━━━━━━━━━━━━━━━\u001b[0m\u001b[37m\u001b[0m \u001b[1m0s\u001b[0m 8ms/step - accuracy: 0.9754 - loss: 0.0950 - val_accuracy: 0.9560 - val_loss: 0.1188\n",
            "Epoch 94/100\n",
            "\u001b[1m12/12\u001b[0m \u001b[32m━━━━━━━━━━━━━━━━━━━━\u001b[0m\u001b[37m\u001b[0m \u001b[1m0s\u001b[0m 8ms/step - accuracy: 0.9836 - loss: 0.0842 - val_accuracy: 0.9560 - val_loss: 0.1187\n",
            "Epoch 95/100\n",
            "\u001b[1m12/12\u001b[0m \u001b[32m━━━━━━━━━━━━━━━━━━━━\u001b[0m\u001b[37m\u001b[0m \u001b[1m0s\u001b[0m 8ms/step - accuracy: 0.9804 - loss: 0.0887 - val_accuracy: 0.9780 - val_loss: 0.1165\n",
            "Epoch 96/100\n",
            "\u001b[1m12/12\u001b[0m \u001b[32m━━━━━━━━━━━━━━━━━━━━\u001b[0m\u001b[37m\u001b[0m \u001b[1m0s\u001b[0m 9ms/step - accuracy: 0.9660 - loss: 0.1106 - val_accuracy: 0.9560 - val_loss: 0.1176\n",
            "Epoch 97/100\n",
            "\u001b[1m12/12\u001b[0m \u001b[32m━━━━━━━━━━━━━━━━━━━━\u001b[0m\u001b[37m\u001b[0m \u001b[1m0s\u001b[0m 8ms/step - accuracy: 0.9813 - loss: 0.0880 - val_accuracy: 0.9780 - val_loss: 0.1165\n",
            "Epoch 98/100\n",
            "\u001b[1m12/12\u001b[0m \u001b[32m━━━━━━━━━━━━━━━━━━━━\u001b[0m\u001b[37m\u001b[0m \u001b[1m0s\u001b[0m 8ms/step - accuracy: 0.9696 - loss: 0.1042 - val_accuracy: 0.9780 - val_loss: 0.1166\n",
            "Epoch 99/100\n",
            "\u001b[1m12/12\u001b[0m \u001b[32m━━━━━━━━━━━━━━━━━━━━\u001b[0m\u001b[37m\u001b[0m \u001b[1m0s\u001b[0m 8ms/step - accuracy: 0.9862 - loss: 0.0841 - val_accuracy: 0.9780 - val_loss: 0.1152\n",
            "Epoch 100/100\n",
            "\u001b[1m12/12\u001b[0m \u001b[32m━━━━━━━━━━━━━━━━━━━━\u001b[0m\u001b[37m\u001b[0m \u001b[1m0s\u001b[0m 8ms/step - accuracy: 0.9850 - loss: 0.0768 - val_accuracy: 0.9670 - val_loss: 0.1146\n"
          ]
        }
      ]
    },
    {
      "cell_type": "code",
      "source": [
        "# Plot accuracy\n",
        "import matplotlib.pyplot as plt # Import pyplot\n",
        "plt.plot(created_model.history['accuracy'], label='Train Accuracy') # Access history correctly\n",
        "plt.plot(created_model.history['val_accuracy'], label='Val Accuracy') # Access history correctly\n",
        "plt.title('Model Accuracy over Epochs')\n",
        "plt.xlabel('Epochs')\n",
        "plt.ylabel('Accuracy')\n",
        "plt.legend()\n",
        "plt.show()"
      ],
      "metadata": {
        "colab": {
          "base_uri": "https://localhost:8080/",
          "height": 472
        },
        "id": "3vA8pKDAi-Sf",
        "outputId": "043d869f-2429-4f53-bec5-3b45b83d3cbc"
      },
      "execution_count": 27,
      "outputs": [
        {
          "output_type": "display_data",
          "data": {
            "text/plain": [
              "<Figure size 640x480 with 1 Axes>"
            ],
            "image/png": "[encoded data removed]"
          },
          "metadata": {}
        }
      ]
    },
    {
      "cell_type": "markdown",
      "source": [
        "#Evaluate the model"
      ],
      "metadata": {
        "id": "2FDZi_X3kYGo"
      }
    },
    {
      "cell_type": "code",
      "source": [
        "loss, accuracy = model.evaluate(X_test_scaled, y_test)\n",
        "print(f\"\\nTest Accuracy: {accuracy:.4f}\")"
      ],
      "metadata": {
        "colab": {
          "base_uri": "https://localhost:8080/"
        },
        "id": "jzdLLoEfhNVs",
        "outputId": "5178bb21-163f-4e33-96fb-23b9326d671d"
      },
      "execution_count": 28,
      "outputs": [
        {
          "output_type": "stream",
          "name": "stdout",
          "text": [
            "\u001b[1m4/4\u001b[0m \u001b[32m━━━━━━━━━━━━━━━━━━━━\u001b[0m\u001b[37m\u001b[0m \u001b[1m0s\u001b[0m 10ms/step - accuracy: 0.9815 - loss: 0.0819\n",
            "\n",
            "Test Accuracy: 0.9825\n"
          ]
        }
      ]
    },
    {
      "cell_type": "code",
      "source": [
        "# Predict\n",
        "y_pred = (model.predict(X_test_scaled)>0.5 ).astype(\"int32\")\n",
        "#Any probability score greater than 0.5 is evaluated as True.\n",
        "#For normal binary classification the set threshold is 0.5 , you can refer to logistics regression notes for details\n",
        "\n",
        "# Show metrics\n",
        "print(\"\\nConfusion Matrix:\")\n",
        "print(confusion_matrix(y_test, y_pred))\n",
        "\n",
        "display_cm = ConfusionMatrixDisplay(confusion_matrix(y_test, y_pred),display_labels=y.unique())\n",
        "\n",
        "display_cm.plot(cmap='Blues')"
      ],
      "metadata": {
        "colab": {
          "base_uri": "https://localhost:8080/",
          "height": 559
        },
        "id": "SZoh31QuhNSr",
        "outputId": "7acf43d0-5a4d-4ca1-9b8f-2672c6b578ef"
      },
      "execution_count": 29,
      "outputs": [
        {
          "output_type": "stream",
          "name": "stdout",
          "text": [
            "\u001b[1m4/4\u001b[0m \u001b[32m━━━━━━━━━━━━━━━━━━━━\u001b[0m\u001b[37m\u001b[0m \u001b[1m0s\u001b[0m 14ms/step\n",
            "\n",
            "Confusion Matrix:\n",
            "[[70  1]\n",
            " [ 1 42]]\n"
          ]
        },
        {
          "output_type": "execute_result",
          "data": {
            "text/plain": [
              "<sklearn.metrics._plot.confusion_matrix.ConfusionMatrixDisplay at 0x7b6e97018410>"
            ]
          },
          "metadata": {},
          "execution_count": 29
        },
        {
          "output_type": "display_data",
          "data": {
            "text/plain": [
              "<Figure size 640x480 with 2 Axes>"
            ],
            "image/png": "[encoded data removed]"
          },
          "metadata": {}
        }
      ]
    },
    {
      "cell_type": "markdown",
      "source": [
        "#Predicting New Data"
      ],
      "metadata": {
        "id": "lVDjZLwWkiuo"
      }
    },
    {
      "cell_type": "code",
      "source": [
        "new_sample = [[14.0, 20.0, 90.0, 600.0, 0.1, 0.15, 0.2, 0.1, 0.2, 0.07,\n",
        "               0.3, 1.0, 2.0, 25.0, 0.007, 0.02, 0.03, 0.01, 0.02, 0.005,\n",
        "               16.0, 25.0, 100.0, 800.0, 0.12, 0.25, 0.3, 0.15, 0.3, 0.08]]"
      ],
      "metadata": {
        "id": "a_nqwP8Xkbxo"
      },
      "execution_count": 30,
      "outputs": []
    },
    {
      "cell_type": "markdown",
      "source": [
        "##Preprocess the new samples"
      ],
      "metadata": {
        "id": "C__ZMrTUkmk_"
      }
    },
    {
      "cell_type": "code",
      "source": [
        "new_samples_scale = scaler.transform(new_sample)"
      ],
      "metadata": {
        "colab": {
          "base_uri": "https://localhost:8080/"
        },
        "id": "TK4p09jfkbvE",
        "outputId": "13bd28ce-2f1e-4ff1-f923-104a86d0d9fd"
      },
      "execution_count": 31,
      "outputs": [
        {
          "output_type": "stream",
          "name": "stderr",
          "text": [
            "/usr/local/lib/python3.12/dist-packages/sklearn/utils/validation.py:2739: UserWarning: X does not have valid feature names, but MinMaxScaler was fitted with feature names\n",
            "  warnings.warn(\n"
          ]
        }
      ]
    },
    {
      "cell_type": "code",
      "source": [
        "#Predict we use prediction label as additonal is cauz we use sigmoid so above 0.5 shows true or lower false and the int32 converts the boolean to int\n",
        "prediction = model.predict(new_samples_scale)\n",
        "prediction_label = (prediction > 0.5).astype(\"int32\")"
      ],
      "metadata": {
        "colab": {
          "base_uri": "https://localhost:8080/"
        },
        "id": "IrHwR57Ekbsv",
        "outputId": "e8087d93-4658-407e-cbf0-404688609adb"
      },
      "execution_count": 32,
      "outputs": [
        {
          "output_type": "stream",
          "name": "stdout",
          "text": [
            "\u001b[1m1/1\u001b[0m \u001b[32m━━━━━━━━━━━━━━━━━━━━\u001b[0m\u001b[37m\u001b[0m \u001b[1m0s\u001b[0m 57ms/step\n"
          ]
        }
      ]
    },
    {
      "cell_type": "code",
      "source": [
        "#Interpret the results\n",
        "\n",
        "\n",
        "if prediction_label[0][0] == 1:\n",
        "  print(\"Prediction : Malignant (Cancerous)\")\n",
        "else:\n",
        "  print(\"Prediction : Benign (Non-cancerous)\")"
      ],
      "metadata": {
        "colab": {
          "base_uri": "https://localhost:8080/"
        },
        "id": "ZOi4fdGHkbqS",
        "outputId": "d70f9d71-090b-4135-963f-24ff9d6c740d"
      },
      "execution_count": 33,
      "outputs": [
        {
          "output_type": "stream",
          "name": "stdout",
          "text": [
            "Prediction : Malignant (Cancerous)\n"
          ]
        }
      ]
    }
  ]
}